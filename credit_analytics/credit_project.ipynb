{
 "cells": [
  {
   "cell_type": "markdown",
   "id": "17ef59f4-40f3-4878-97a0-f90d0e1b5a3c",
   "metadata": {},
   "source": [
    "# Исследование надёжности заёмщиков\n",
    "## Описание проекта\n",
    "Нужно научиться определять рыночную стоимость объектов недвижимости по данным проекта Яндекс Недвижимость. Задача — установить параметры. Это позволит построить автоматизированную систему: она отследит аномалии и мошенническую деятельность. \n",
    "По каждой квартире на продажу доступны два вида данных. Первые вписаны пользователем, вторые — получены автоматически на основе картографических данных. Например, расстояние до центра, аэропорта, ближайшего парка и водоёма. "
   ]
  },
  {
   "cell_type": "markdown",
   "id": "98a78450-da8e-4c13-ab7c-bd0bfb07b0e6",
   "metadata": {},
   "source": [
    "# 1. Обзор данных"
   ]
  },
  {
   "cell_type": "markdown",
   "id": "1497583b-9d4e-4ee6-a5ff-297738632617",
   "metadata": {},
   "source": [
    "Изучим данные, предоставленные для исследования. Импортируем библиотеку *pandas* и сохраним таблицу в переменную *df*."
   ]
  },
  {
   "cell_type": "code",
   "execution_count": 1,
   "id": "15c1d912-6b3c-489e-aa41-a96a9637ddc2",
   "metadata": {},
   "outputs": [],
   "source": [
    "import pandas as pd"
   ]
  },
  {
   "cell_type": "code",
   "execution_count": 2,
   "id": "7331b334-adf4-4827-b5dc-e503d54bcb8f",
   "metadata": {},
   "outputs": [],
   "source": [
    "df = pd.read_csv('/real_estate_data.csv')"
   ]
  },
  {
   "cell_type": "markdown",
   "id": "bdd16bba-5e3e-40ad-8a92-c223679017d0",
   "metadata": {},
   "source": [
    "Заглянем одним глазком в первые 5 строк таблицы."
   ]
  },
  {
   "cell_type": "code",
   "execution_count": 3,
   "id": "49a900ed-bffd-44e7-9a62-9e4884feb5e8",
   "metadata": {},
   "outputs": [
    {
     "data": {
      "text/html": [
       "<div>\n",
       "<style scoped>\n",
       "    .dataframe tbody tr th:only-of-type {\n",
       "        vertical-align: middle;\n",
       "    }\n",
       "\n",
       "    .dataframe tbody tr th {\n",
       "        vertical-align: top;\n",
       "    }\n",
       "\n",
       "    .dataframe thead th {\n",
       "        text-align: right;\n",
       "    }\n",
       "</style>\n",
       "<table border=\"1\" class=\"dataframe\">\n",
       "  <thead>\n",
       "    <tr style=\"text-align: right;\">\n",
       "      <th></th>\n",
       "      <th>children</th>\n",
       "      <th>days_employed</th>\n",
       "      <th>dob_years</th>\n",
       "      <th>education</th>\n",
       "      <th>education_id</th>\n",
       "      <th>family_status</th>\n",
       "      <th>family_status_id</th>\n",
       "      <th>gender</th>\n",
       "      <th>income_type</th>\n",
       "      <th>debt</th>\n",
       "      <th>total_income</th>\n",
       "      <th>purpose</th>\n",
       "    </tr>\n",
       "  </thead>\n",
       "  <tbody>\n",
       "    <tr>\n",
       "      <th>0</th>\n",
       "      <td>1</td>\n",
       "      <td>-8437.673028</td>\n",
       "      <td>42</td>\n",
       "      <td>высшее</td>\n",
       "      <td>0</td>\n",
       "      <td>женат / замужем</td>\n",
       "      <td>0</td>\n",
       "      <td>F</td>\n",
       "      <td>сотрудник</td>\n",
       "      <td>0</td>\n",
       "      <td>253875.639453</td>\n",
       "      <td>покупка жилья</td>\n",
       "    </tr>\n",
       "    <tr>\n",
       "      <th>1</th>\n",
       "      <td>1</td>\n",
       "      <td>-4024.803754</td>\n",
       "      <td>36</td>\n",
       "      <td>среднее</td>\n",
       "      <td>1</td>\n",
       "      <td>женат / замужем</td>\n",
       "      <td>0</td>\n",
       "      <td>F</td>\n",
       "      <td>сотрудник</td>\n",
       "      <td>0</td>\n",
       "      <td>112080.014102</td>\n",
       "      <td>приобретение автомобиля</td>\n",
       "    </tr>\n",
       "    <tr>\n",
       "      <th>2</th>\n",
       "      <td>0</td>\n",
       "      <td>-5623.422610</td>\n",
       "      <td>33</td>\n",
       "      <td>Среднее</td>\n",
       "      <td>1</td>\n",
       "      <td>женат / замужем</td>\n",
       "      <td>0</td>\n",
       "      <td>M</td>\n",
       "      <td>сотрудник</td>\n",
       "      <td>0</td>\n",
       "      <td>145885.952297</td>\n",
       "      <td>покупка жилья</td>\n",
       "    </tr>\n",
       "    <tr>\n",
       "      <th>3</th>\n",
       "      <td>3</td>\n",
       "      <td>-4124.747207</td>\n",
       "      <td>32</td>\n",
       "      <td>среднее</td>\n",
       "      <td>1</td>\n",
       "      <td>женат / замужем</td>\n",
       "      <td>0</td>\n",
       "      <td>M</td>\n",
       "      <td>сотрудник</td>\n",
       "      <td>0</td>\n",
       "      <td>267628.550329</td>\n",
       "      <td>дополнительное образование</td>\n",
       "    </tr>\n",
       "    <tr>\n",
       "      <th>4</th>\n",
       "      <td>0</td>\n",
       "      <td>340266.072047</td>\n",
       "      <td>53</td>\n",
       "      <td>среднее</td>\n",
       "      <td>1</td>\n",
       "      <td>гражданский брак</td>\n",
       "      <td>1</td>\n",
       "      <td>F</td>\n",
       "      <td>пенсионер</td>\n",
       "      <td>0</td>\n",
       "      <td>158616.077870</td>\n",
       "      <td>сыграть свадьбу</td>\n",
       "    </tr>\n",
       "  </tbody>\n",
       "</table>\n",
       "</div>"
      ],
      "text/plain": [
       "   children  days_employed  dob_years education  education_id  \\\n",
       "0         1   -8437.673028         42    высшее             0   \n",
       "1         1   -4024.803754         36   среднее             1   \n",
       "2         0   -5623.422610         33   Среднее             1   \n",
       "3         3   -4124.747207         32   среднее             1   \n",
       "4         0  340266.072047         53   среднее             1   \n",
       "\n",
       "      family_status  family_status_id gender income_type  debt   total_income  \\\n",
       "0   женат / замужем                 0      F   сотрудник     0  253875.639453   \n",
       "1   женат / замужем                 0      F   сотрудник     0  112080.014102   \n",
       "2   женат / замужем                 0      M   сотрудник     0  145885.952297   \n",
       "3   женат / замужем                 0      M   сотрудник     0  267628.550329   \n",
       "4  гражданский брак                 1      F   пенсионер     0  158616.077870   \n",
       "\n",
       "                      purpose  \n",
       "0               покупка жилья  \n",
       "1     приобретение автомобиля  \n",
       "2               покупка жилья  \n",
       "3  дополнительное образование  \n",
       "4             сыграть свадьбу  "
      ]
     },
     "execution_count": 3,
     "metadata": {},
     "output_type": "execute_result"
    }
   ],
   "source": [
    "df.head()"
   ]
  },
  {
   "cell_type": "markdown",
   "id": "ad27d6b9-431b-4bd7-9913-3c4c4d042a33",
   "metadata": {},
   "source": [
    "Теперь узнаем общую информацию о таблице."
   ]
  },
  {
   "cell_type": "code",
   "execution_count": 4,
   "id": "5cf62461-3551-4ed6-b375-37132282adef",
   "metadata": {},
   "outputs": [
    {
     "name": "stdout",
     "output_type": "stream",
     "text": [
      "<class 'pandas.core.frame.DataFrame'>\n",
      "RangeIndex: 21525 entries, 0 to 21524\n",
      "Data columns (total 12 columns):\n",
      " #   Column            Non-Null Count  Dtype  \n",
      "---  ------            --------------  -----  \n",
      " 0   children          21525 non-null  int64  \n",
      " 1   days_employed     19351 non-null  float64\n",
      " 2   dob_years         21525 non-null  int64  \n",
      " 3   education         21525 non-null  object \n",
      " 4   education_id      21525 non-null  int64  \n",
      " 5   family_status     21525 non-null  object \n",
      " 6   family_status_id  21525 non-null  int64  \n",
      " 7   gender            21525 non-null  object \n",
      " 8   income_type       21525 non-null  object \n",
      " 9   debt              21525 non-null  int64  \n",
      " 10  total_income      19351 non-null  float64\n",
      " 11  purpose           21525 non-null  object \n",
      "dtypes: float64(2), int64(5), object(5)\n",
      "memory usage: 2.0+ MB\n"
     ]
    }
   ],
   "source": [
    "df.info()"
   ]
  },
  {
   "cell_type": "markdown",
   "id": "e1a192ae-a8d5-40c4-b2f5-ca623485ccc9",
   "metadata": {},
   "source": [
    "Рассмотрим полученную информацию подробнее.\n",
    "\n",
    "Всего в таблице 12 столбцов разных типов (числовых и строковых). В двух столбцах имеются пропущенные значения.\n",
    "\n",
    "Не всегда по названию колонки можно определить, какие данные она в себе содержит. Поэтому, обратимся к документации к данным для получения информации о столбцах:\n",
    "\n",
    "* children — количество детей в семье\n",
    "* days_employed — общий трудовой стаж в днях\n",
    "* dob_years — возраст клиента в годах\n",
    "* education — уровень образования клиента\n",
    "* education_id — идентификатор уровня образования\n",
    "* family_status — семейное положение\n",
    "* family_status_id — идентификатор семейного положения\n",
    "* gender — пол клиента\n",
    "* income_type — тип занятости\n",
    "* debt — имел ли задолженность по возврату кредитов\n",
    "* total_income — ежемесячный доход\n",
    "* purpose — цель получения кредита"
   ]
  },
  {
   "cell_type": "markdown",
   "id": "3fb1704b-13e0-4617-a57a-f98fb4ada746",
   "metadata": {},
   "source": [
    "**Выводы**"
   ]
  },
  {
   "cell_type": "markdown",
   "id": "2eb9dc3f-5858-4353-94a9-c0f6106e3e13",
   "metadata": {},
   "source": [
    "Каждая строка таблицы содержит информацию о клиенте банка - потенциальном получателе кредита. Для решения задач данного исследования наиболее ценными являются столбцы *children*, *family_status* и *debt*. В столбцах *days_employed* и *total_income* имеются пропущенные значения. Эту и другие проблемы нам нужно будет решить на следующем шаге проекта - этапе предобработки данных."
   ]
  },
  {
   "cell_type": "markdown",
   "id": "7624aab3-98c1-4d94-a2e1-29147332d956",
   "metadata": {},
   "source": [
    "# 2. Предобработка данных"
   ]
  },
  {
   "cell_type": "markdown",
   "id": "2b039139-d66e-43f7-8071-453bf60e6256",
   "metadata": {},
   "source": [
    "Узнаем, сколько пропусков в таблице, вызовом набора методов для суммирования пропущенных значений."
   ]
  },
  {
   "cell_type": "code",
   "execution_count": 5,
   "id": "97d202ac-a6c2-4257-9fad-354e85957cef",
   "metadata": {},
   "outputs": [
    {
     "data": {
      "text/plain": [
       "children               0\n",
       "days_employed       2174\n",
       "dob_years              0\n",
       "education              0\n",
       "education_id           0\n",
       "family_status          0\n",
       "family_status_id       0\n",
       "gender                 0\n",
       "income_type            0\n",
       "debt                   0\n",
       "total_income        2174\n",
       "purpose                0\n",
       "dtype: int64"
      ]
     },
     "execution_count": 5,
     "metadata": {},
     "output_type": "execute_result"
    }
   ],
   "source": [
    "df.isna().sum()"
   ]
  },
  {
   "cell_type": "markdown",
   "id": "77e94e10-b8ef-4b28-ab7c-0edf8a3c9fe7",
   "metadata": {},
   "source": [
    "Проверим, какую долю составляют пропуски в каждом из столбцов *days_employed* и *total_income*."
   ]
  },
  {
   "cell_type": "code",
   "execution_count": 6,
   "id": "c9451481-8d29-4535-b6c8-5580f0908f7a",
   "metadata": {},
   "outputs": [
    {
     "data": {
      "text/plain": [
       "children            0.000000\n",
       "days_employed       0.112346\n",
       "dob_years           0.000000\n",
       "education           0.000000\n",
       "education_id        0.000000\n",
       "family_status       0.000000\n",
       "family_status_id    0.000000\n",
       "gender              0.000000\n",
       "income_type         0.000000\n",
       "debt                0.000000\n",
       "total_income        0.112346\n",
       "purpose             0.000000\n",
       "dtype: float64"
      ]
     },
     "execution_count": 6,
     "metadata": {},
     "output_type": "execute_result"
    }
   ],
   "source": [
    "df.isna().sum() / df.count()"
   ]
  },
  {
   "cell_type": "markdown",
   "id": "ea6d5704-36c7-41bf-9b67-724a2f30ed7c",
   "metadata": {},
   "source": [
    "Чуть больше 11 %. Не хило!\n",
    "Количество пропущенных значений в столбце с доходами соответсвует количеству пропусков в колонке с трудовым стажем. Возможно между этими пропусками есть связь. Проверим эту гипотезу."
   ]
  },
  {
   "cell_type": "code",
   "execution_count": 7,
   "id": "e7aaef13-3017-428b-b6f6-5c5059b25c32",
   "metadata": {},
   "outputs": [
    {
     "data": {
      "text/plain": [
       "2174"
      ]
     },
     "execution_count": 7,
     "metadata": {},
     "output_type": "execute_result"
    }
   ],
   "source": [
    "#выведем сумму пропусков в столбце total_income в строках с пропущенными значениями в days_employed\n",
    "df[df['days_employed'].isna()]['total_income'].isna().sum()"
   ]
  },
  {
   "cell_type": "markdown",
   "id": "e70e4e30-3ce4-4483-a9d3-9df11fce1a54",
   "metadata": {},
   "source": [
    "Гипотеза подтвердилась! Клиенты, не указавшие свой доход, так же не предоставили информацию и о своём стаже. Возможно они все бедные студенты? "
   ]
  },
  {
   "cell_type": "markdown",
   "id": "41a9a29d-a4b9-4349-8fa3-95e5b99cca8b",
   "metadata": {},
   "source": [
    "Выделим возраст и тип занятости клиентов в строках с пропусками. "
   ]
  },
  {
   "cell_type": "code",
   "execution_count": 8,
   "id": "37bb65d2-bc30-4567-9b7e-95a8216976aa",
   "metadata": {},
   "outputs": [
    {
     "name": "stdout",
     "output_type": "stream",
     "text": [
      "34    69\n",
      "40    66\n",
      "31    65\n",
      "42    65\n",
      "35    64\n",
      "36    63\n",
      "47    59\n",
      "41    59\n",
      "30    58\n",
      "28    57\n",
      "Name: dob_years, dtype: int64\n"
     ]
    },
    {
     "data": {
      "text/plain": [
       "сотрудник          1105\n",
       "компаньон           508\n",
       "пенсионер           413\n",
       "госслужащий         147\n",
       "предприниматель       1\n",
       "Name: income_type, dtype: int64"
      ]
     },
     "execution_count": 8,
     "metadata": {},
     "output_type": "execute_result"
    }
   ],
   "source": [
    "# подсчитаем количество уникальных значений в столбцах 'dob_years' и 'income_type' методом value_counts()\n",
    "print(df[df['days_employed'].isna()]['dob_years'].value_counts().head(10))\n",
    "df[df['days_employed'].isna()]['income_type'].value_counts().head(10)"
   ]
  },
  {
   "cell_type": "markdown",
   "id": "848d7e77-7977-470d-9c97-efff9bd1aeb6",
   "metadata": {},
   "source": [
    "Преобладают сотрудники компаний среднестатистического возраста. Всё же, видимо, пропуски связаны с технической ошибкой при записи или выгрузке данных. "
   ]
  },
  {
   "cell_type": "markdown",
   "id": "1b829691-1c2e-4817-9965-6d8faa78554c",
   "metadata": {},
   "source": [
    "Для дальнейшего анализа нам потребуется избавиться от пропусков в таблице. Подумаем, каким образом лучше это сделать. \n",
    "\n",
    "Проверим отличия максимального, минимального и среднего значений дохода клиентов."
   ]
  },
  {
   "cell_type": "code",
   "execution_count": 9,
   "id": "02437ee7-992e-4785-b75f-5fb35bf5e1ce",
   "metadata": {},
   "outputs": [
    {
     "name": "stdout",
     "output_type": "stream",
     "text": [
      "Минимальный доход: 20667.26\n",
      "Средний доход: 167422.30\n",
      "Максимальный доход: 2265604.03\n"
     ]
    }
   ],
   "source": [
    "print(f'Минимальный доход: {df[\"total_income\"].min():0.2f}')\n",
    "print(f'Средний доход: {df[\"total_income\"].mean():0.2f}')\n",
    "print(f'Максимальный доход: {df[\"total_income\"].max():0.2f}')"
   ]
  },
  {
   "cell_type": "markdown",
   "id": "83e0e3c9-1c70-4af7-9f0a-75fcefe14eb3",
   "metadata": {},
   "source": [
    "Как мы видим, в данных с доходами клиентов есть выдающиеся значения, которые в несколько раз превосходят низкие показатели. В таком случае, средняя температура по больнице не отражает реальное положение дел с финансовым положением кредитополучателей. \n",
    "\n",
    "Поэтому, заполним пропуски в этом столбце медианным значением —  это лучшее решение для количественных переменных."
   ]
  },
  {
   "cell_type": "code",
   "execution_count": 10,
   "id": "cdb995c0-6f7e-4434-a70c-419901907449",
   "metadata": {},
   "outputs": [
    {
     "name": "stdout",
     "output_type": "stream",
     "text": [
      "<class 'pandas.core.frame.DataFrame'>\n",
      "RangeIndex: 21525 entries, 0 to 21524\n",
      "Data columns (total 12 columns):\n",
      " #   Column            Non-Null Count  Dtype  \n",
      "---  ------            --------------  -----  \n",
      " 0   children          21525 non-null  int64  \n",
      " 1   days_employed     19351 non-null  float64\n",
      " 2   dob_years         21525 non-null  int64  \n",
      " 3   education         21525 non-null  object \n",
      " 4   education_id      21525 non-null  int64  \n",
      " 5   family_status     21525 non-null  object \n",
      " 6   family_status_id  21525 non-null  int64  \n",
      " 7   gender            21525 non-null  object \n",
      " 8   income_type       21525 non-null  object \n",
      " 9   debt              21525 non-null  int64  \n",
      " 10  total_income      21525 non-null  int32  \n",
      " 11  purpose           21525 non-null  object \n",
      "dtypes: float64(1), int32(1), int64(5), object(5)\n",
      "memory usage: 1.9+ MB\n"
     ]
    }
   ],
   "source": [
    "# применим метод fillna() для заполнения пропусков, заменим тип значений столбца на int и проверим внесение изменений\n",
    "df['total_income'] = df['total_income'].fillna(df['total_income'].median())\n",
    "df['total_income'] = df['total_income'].astype('int')\n",
    "df.info()"
   ]
  },
  {
   "cell_type": "markdown",
   "id": "6da1f61f-dc88-4199-89e3-c9a3d38a7051",
   "metadata": {},
   "source": [
    "Настала очередь заняться столбцом с трудовым стажем.\n",
    "Выведем аналогично максимальные и минимальные значения."
   ]
  },
  {
   "cell_type": "code",
   "execution_count": 11,
   "id": "5ae89287-68d8-4a15-8b27-7352796eb6d5",
   "metadata": {},
   "outputs": [
    {
     "name": "stdout",
     "output_type": "stream",
     "text": [
      "Минимальный стаж: -18388.95\n",
      "Максимальный стаж: 401755.40\n"
     ]
    }
   ],
   "source": [
    "print(f'Минимальный стаж: {df[\"days_employed\"].min():0.2f}')\n",
    "print(f'Максимальный стаж: {df[\"days_employed\"].max():0.2f}')"
   ]
  },
  {
   "cell_type": "markdown",
   "id": "4620c413-8eeb-4673-9d40-26906dff3022",
   "metadata": {},
   "source": [
    " Либо среди клиентов есть Бенджамины Баттоны, либо мы нашли аномальные данные. Стаж не может быть отрицательным. Исправим это дело."
   ]
  },
  {
   "cell_type": "code",
   "execution_count": 12,
   "id": "472035a8-cc0a-4695-ad6b-98618fb774db",
   "metadata": {},
   "outputs": [
    {
     "data": {
      "text/plain": [
       "0.8219730246498889"
      ]
     },
     "execution_count": 12,
     "metadata": {},
     "output_type": "execute_result"
    }
   ],
   "source": [
    "# выясним долю отрицательных значений от всех значений\n",
    "df[df['days_employed'] < 0]['days_employed'].count() / df['days_employed'].count()"
   ]
  },
  {
   "cell_type": "markdown",
   "id": "e14151ed-ea85-4e35-83c0-0bc47002427d",
   "metadata": {},
   "source": [
    "82%! Почти все значения столбца с трудовым стажем ниже нуля. Возможно, на это повлияли какие-то неполадки с системой отсчета, либо коварный минус затесался на этапе выгрузки данных из базы. В таком случае безболезненно удалить ошибочные данные из выборки не получится. \n",
    "\n",
    "Учитывая, что данные стажа не влияют на задачи текущего исследования, не будем тратить время на выяснение причин ошибки, и заменим все отрицательные значения их модулями."
   ]
  },
  {
   "cell_type": "code",
   "execution_count": 13,
   "id": "42a5725e-7db9-46d8-bbe8-d299cc4d67b1",
   "metadata": {},
   "outputs": [
    {
     "name": "stdout",
     "output_type": "stream",
     "text": [
      "Минимальный стаж: 24.14\n"
     ]
    }
   ],
   "source": [
    "# избавимся от отрицательных значений и выведем минимальное значение стажа для проверки\n",
    "df[\"days_employed\"] = df[\"days_employed\"].abs()\n",
    "print(f'Минимальный стаж: {df[\"days_employed\"].min():0.2f}')"
   ]
  },
  {
   "cell_type": "markdown",
   "id": "659da2ad-b23e-4fc5-8def-2f11345bc138",
   "metadata": {},
   "source": [
    "Готово. Теперь можем заменить пропуски в столбце медианой."
   ]
  },
  {
   "cell_type": "code",
   "execution_count": 14,
   "id": "8c815fe3-700c-4a94-b21f-0f27c3982401",
   "metadata": {},
   "outputs": [
    {
     "data": {
      "text/plain": [
       "children            0\n",
       "days_employed       0\n",
       "dob_years           0\n",
       "education           0\n",
       "education_id        0\n",
       "family_status       0\n",
       "family_status_id    0\n",
       "gender              0\n",
       "income_type         0\n",
       "debt                0\n",
       "total_income        0\n",
       "purpose             0\n",
       "dtype: int64"
      ]
     },
     "execution_count": 14,
     "metadata": {},
     "output_type": "execute_result"
    }
   ],
   "source": [
    "# применим метод fillna() для заполнения пропусков и проверим внесение изменений\n",
    "df['days_employed'] = df['days_employed'].fillna(df['days_employed'].median())\n",
    "df.isna().sum()"
   ]
  },
  {
   "cell_type": "markdown",
   "id": "0f350aa4-f9d5-464c-83e0-d5a9aff621b5",
   "metadata": {},
   "source": [
    "Теперь проверим и другие столбцы на наличие артефактов."
   ]
  },
  {
   "cell_type": "code",
   "execution_count": 15,
   "id": "e78d65f2-eed7-4bcc-9d0b-2f39937702db",
   "metadata": {},
   "outputs": [
    {
     "data": {
      "text/plain": [
       " 0     14149\n",
       " 1      4818\n",
       " 2      2055\n",
       " 3       330\n",
       " 20       76\n",
       "-1        47\n",
       " 4        41\n",
       " 5         9\n",
       "Name: children, dtype: int64"
      ]
     },
     "execution_count": 15,
     "metadata": {},
     "output_type": "execute_result"
    }
   ],
   "source": [
    "# подсчитаем количество уникальных значений в столбцах 'children' и 'debt'\n",
    "df['debt'].value_counts()\n",
    "df['children'].value_counts()"
   ]
  },
  {
   "cell_type": "markdown",
   "id": "2ab51d53-329b-4ecc-ba60-8c055ee399e7",
   "metadata": {},
   "source": [
    "У 76 клиентов 20(!) детей. А ещё у нескольких - их отрицательное количество. Доля этих значений менее 1 %, их удаление не повлияет на результаты анализа, можем избавиться от строк с аномальными значениями."
   ]
  },
  {
   "cell_type": "code",
   "execution_count": 16,
   "id": "c7d267eb-ae39-41f8-8f6b-c06587682a25",
   "metadata": {},
   "outputs": [
    {
     "data": {
      "text/plain": [
       "0    14149\n",
       "1     4818\n",
       "2     2055\n",
       "3      330\n",
       "4       41\n",
       "5        9\n",
       "Name: children, dtype: int64"
      ]
     },
     "execution_count": 16,
     "metadata": {},
     "output_type": "execute_result"
    }
   ],
   "source": [
    "# удалим строки с аномальными значениями и выполним проверку удаления\n",
    "df= df[(df['children'] != 20) & (df['children'] >= 0)]\n",
    "df['children'].value_counts()"
   ]
  },
  {
   "cell_type": "markdown",
   "id": "1fe16166-7049-473b-b5a0-b8ccdd3cc4bc",
   "metadata": {},
   "source": [
    "Далее, необходимо установить наличие дубликатов.  Если найдутся, удаляем, и проверяем, все ли удалились."
   ]
  },
  {
   "cell_type": "code",
   "execution_count": 17,
   "id": "b3afbb56-1323-422e-9ea0-29c302ca2b3b",
   "metadata": {},
   "outputs": [
    {
     "data": {
      "text/plain": [
       "54"
      ]
     },
     "execution_count": 17,
     "metadata": {},
     "output_type": "execute_result"
    }
   ],
   "source": [
    "# получение суммарного количества дубликатов в таблице df\n",
    "df.duplicated().sum()"
   ]
  },
  {
   "cell_type": "code",
   "execution_count": 18,
   "id": "788c637f-223e-40ce-8650-d8784f508696",
   "metadata": {},
   "outputs": [],
   "source": [
    "# удаление всех дубликатов из таблицы df специальным методом и сброс индексов\n",
    "df = df.drop_duplicates().reset_index(drop=True)"
   ]
  },
  {
   "cell_type": "code",
   "execution_count": 19,
   "id": "763a84a3-e9f4-4800-b816-aa068567d285",
   "metadata": {},
   "outputs": [
    {
     "data": {
      "text/plain": [
       "0"
      ]
     },
     "execution_count": 19,
     "metadata": {},
     "output_type": "execute_result"
    }
   ],
   "source": [
    "# проверка на отсутствие\n",
    "df.duplicated().sum()"
   ]
  },
  {
   "cell_type": "markdown",
   "id": "ebd367aa-6aa6-43bd-a2ff-3a5c0b51ce8e",
   "metadata": {},
   "source": [
    "Дубликаты могли появиться вследствие сбоя в записи данных. Стоит обратить внимание и разобраться с причинами их появления в базе данных."
   ]
  },
  {
   "cell_type": "markdown",
   "id": "ae7968a9-7b2f-4768-bb4e-e035361602d9",
   "metadata": {},
   "source": [
    "Далее выполним поиск неявных дубликатов в таблице. Ещё в самом начале исследования, по первым строкам таблицы мы заметили, что в столбце *education* одни и те же значения записаны по-разному: с использованием заглавных и строчных букв."
   ]
  },
  {
   "cell_type": "code",
   "execution_count": 20,
   "id": "5074342e-2c66-4499-932f-ebeab92ce8fa",
   "metadata": {},
   "outputs": [
    {
     "data": {
      "text/plain": [
       "array(['высшее', 'среднее', 'неоконченное высшее', 'начальное',\n",
       "       'ученая степень'], dtype=object)"
      ]
     },
     "execution_count": 20,
     "metadata": {},
     "output_type": "execute_result"
    }
   ],
   "source": [
    "# приведем все значения столбца к нижнему регистру с помощью метода lower()\n",
    "df['education'] = df['education'].str.lower()\n",
    "# проверим изменения через вывод уникальных значений столбца\n",
    "df['education'].unique()"
   ]
  },
  {
   "cell_type": "markdown",
   "id": "d681d166-d307-4f4c-803b-20c8b02caea8",
   "metadata": {},
   "source": [
    "С этим столбцом разобрались. Пройдемся теперь по другим столбцам, содержащим категорийные значения."
   ]
  },
  {
   "cell_type": "code",
   "execution_count": 21,
   "id": "b6ed7256-baa1-4faa-ad3d-5e595bb7cfaf",
   "metadata": {},
   "outputs": [
    {
     "data": {
      "text/plain": [
       "array(['покупка жилья', 'приобретение автомобиля',\n",
       "       'дополнительное образование', 'сыграть свадьбу',\n",
       "       'операции с жильем', 'образование', 'на проведение свадьбы',\n",
       "       'покупка жилья для семьи', 'покупка недвижимости',\n",
       "       'покупка коммерческой недвижимости', 'покупка жилой недвижимости',\n",
       "       'строительство собственной недвижимости', 'недвижимость',\n",
       "       'строительство недвижимости', 'на покупку подержанного автомобиля',\n",
       "       'на покупку своего автомобиля',\n",
       "       'операции с коммерческой недвижимостью',\n",
       "       'строительство жилой недвижимости', 'жилье',\n",
       "       'операции со своей недвижимостью', 'автомобили',\n",
       "       'заняться образованием', 'сделка с подержанным автомобилем',\n",
       "       'получение образования', 'автомобиль', 'свадьба',\n",
       "       'получение дополнительного образования', 'покупка своего жилья',\n",
       "       'операции с недвижимостью', 'получение высшего образования',\n",
       "       'свой автомобиль', 'сделка с автомобилем',\n",
       "       'профильное образование', 'высшее образование',\n",
       "       'покупка жилья для сдачи', 'на покупку автомобиля', 'ремонт жилью',\n",
       "       'заняться высшим образованием'], dtype=object)"
      ]
     },
     "execution_count": 21,
     "metadata": {},
     "output_type": "execute_result"
    }
   ],
   "source": [
    "# вывод уникальных значений в столбцах\n",
    "df['family_status'].unique()\n",
    "df['gender'].unique()\n",
    "df['income_type'].unique()\n",
    "df['purpose'].unique()"
   ]
  },
  {
   "cell_type": "markdown",
   "id": "426dc020-a5ae-4777-a4f6-0df177c97bc3",
   "metadata": {},
   "source": [
    "Из всех подвергнутых проверке серий неявные дубликаты содержатся только в столбце *purpose*. Для их обработки можно применить лемматизацию."
   ]
  },
  {
   "cell_type": "markdown",
   "id": "ca180d74-72a4-4b72-b31b-efa60fd2b831",
   "metadata": {},
   "source": [
    "Создадим функцию, которая на основании данных из столбца *purpose* сформирует новый столбец *purpose_category*, в который войдут следующие категории:\n",
    "- операции с автомобилем;\n",
    "- операции с недвижимостью;\n",
    "- проведение свадьбы;\n",
    "- получение образования."
   ]
  },
  {
   "cell_type": "code",
   "execution_count": 22,
   "id": "7d70bc88-eb86-4d58-b70e-93bc7451870c",
   "metadata": {},
   "outputs": [
    {
     "data": {
      "text/plain": [
       "0"
      ]
     },
     "execution_count": 22,
     "metadata": {},
     "output_type": "execute_result"
    }
   ],
   "source": [
    "# напишем функцию категоризации\n",
    "def purpose_ctgry(purpose):\n",
    "    if 'авто' in purpose:\n",
    "        return 'операции с автомобилем'\n",
    "    elif 'недвиж' in purpose or 'жил' in purpose:\n",
    "        return 'операции с недвижимостью'\n",
    "    elif 'свадьб' in purpose:\n",
    "        return 'проведение свадьбы'\n",
    "    elif 'образов' in purpose:\n",
    "        return 'получение образования'\n",
    "\n",
    "# создадим новый столбец с помощью метода apply()\n",
    "df['purpose_category'] = df['purpose'].apply(purpose_ctgry)\n",
    "\n",
    "# проверим, все ли причины нашли свою категорию\n",
    "df['purpose_category'].isna().sum()"
   ]
  },
  {
   "cell_type": "markdown",
   "id": "da738464-ab5e-48d4-81cf-dfd72334e5bc",
   "metadata": {},
   "source": [
    "Переходя далее, можем заметить, что столбцы:\n",
    "- *education_id* и *education*;\n",
    "- *family_status_id* и *family_status*\n",
    "\n",
    "по сути являются избыточными и дублируют друг друга. Перенесём их в отдельные таблицы-\"справочники\"."
   ]
  },
  {
   "cell_type": "code",
   "execution_count": 23,
   "id": "342ab30f-5e13-4bb5-9c92-7bf0d1e4aed1",
   "metadata": {},
   "outputs": [
    {
     "data": {
      "text/html": [
       "<div>\n",
       "<style scoped>\n",
       "    .dataframe tbody tr th:only-of-type {\n",
       "        vertical-align: middle;\n",
       "    }\n",
       "\n",
       "    .dataframe tbody tr th {\n",
       "        vertical-align: top;\n",
       "    }\n",
       "\n",
       "    .dataframe thead th {\n",
       "        text-align: right;\n",
       "    }\n",
       "</style>\n",
       "<table border=\"1\" class=\"dataframe\">\n",
       "  <thead>\n",
       "    <tr style=\"text-align: right;\">\n",
       "      <th></th>\n",
       "      <th>family_status_id</th>\n",
       "      <th>family_status</th>\n",
       "    </tr>\n",
       "  </thead>\n",
       "  <tbody>\n",
       "    <tr>\n",
       "      <th>0</th>\n",
       "      <td>0</td>\n",
       "      <td>женат / замужем</td>\n",
       "    </tr>\n",
       "    <tr>\n",
       "      <th>1</th>\n",
       "      <td>1</td>\n",
       "      <td>гражданский брак</td>\n",
       "    </tr>\n",
       "    <tr>\n",
       "      <th>2</th>\n",
       "      <td>2</td>\n",
       "      <td>вдовец / вдова</td>\n",
       "    </tr>\n",
       "    <tr>\n",
       "      <th>3</th>\n",
       "      <td>3</td>\n",
       "      <td>в разводе</td>\n",
       "    </tr>\n",
       "    <tr>\n",
       "      <th>4</th>\n",
       "      <td>4</td>\n",
       "      <td>Не женат / не замужем</td>\n",
       "    </tr>\n",
       "  </tbody>\n",
       "</table>\n",
       "</div>"
      ],
      "text/plain": [
       "   family_status_id          family_status\n",
       "0                 0        женат / замужем\n",
       "1                 1       гражданский брак\n",
       "2                 2         вдовец / вдова\n",
       "3                 3              в разводе\n",
       "4                 4  Не женат / не замужем"
      ]
     },
     "metadata": {},
     "output_type": "display_data"
    },
    {
     "data": {
      "text/html": [
       "<div>\n",
       "<style scoped>\n",
       "    .dataframe tbody tr th:only-of-type {\n",
       "        vertical-align: middle;\n",
       "    }\n",
       "\n",
       "    .dataframe tbody tr th {\n",
       "        vertical-align: top;\n",
       "    }\n",
       "\n",
       "    .dataframe thead th {\n",
       "        text-align: right;\n",
       "    }\n",
       "</style>\n",
       "<table border=\"1\" class=\"dataframe\">\n",
       "  <thead>\n",
       "    <tr style=\"text-align: right;\">\n",
       "      <th></th>\n",
       "      <th>education_id</th>\n",
       "      <th>education</th>\n",
       "    </tr>\n",
       "  </thead>\n",
       "  <tbody>\n",
       "    <tr>\n",
       "      <th>0</th>\n",
       "      <td>0</td>\n",
       "      <td>высшее</td>\n",
       "    </tr>\n",
       "    <tr>\n",
       "      <th>1</th>\n",
       "      <td>1</td>\n",
       "      <td>среднее</td>\n",
       "    </tr>\n",
       "    <tr>\n",
       "      <th>2</th>\n",
       "      <td>2</td>\n",
       "      <td>неоконченное высшее</td>\n",
       "    </tr>\n",
       "    <tr>\n",
       "      <th>3</th>\n",
       "      <td>3</td>\n",
       "      <td>начальное</td>\n",
       "    </tr>\n",
       "    <tr>\n",
       "      <th>4</th>\n",
       "      <td>4</td>\n",
       "      <td>ученая степень</td>\n",
       "    </tr>\n",
       "  </tbody>\n",
       "</table>\n",
       "</div>"
      ],
      "text/plain": [
       "   education_id            education\n",
       "0             0               высшее\n",
       "1             1              среднее\n",
       "2             2  неоконченное высшее\n",
       "3             3            начальное\n",
       "4             4       ученая степень"
      ]
     },
     "execution_count": 23,
     "metadata": {},
     "output_type": "execute_result"
    }
   ],
   "source": [
    "# в датафрейм \"family_status\" перенесем соответсвующие столбцы, оставив только уникальные соответствия\n",
    "family_status = df.loc[:, ['family_status_id', 'family_status']].drop_duplicates().reset_index(drop=True)\n",
    "display(family_status.head(10))\n",
    "\n",
    "# в датафрейм \"education\" перенесем соответсвующие столбцы, оставив только уникальные соответствия\n",
    "education = df.loc[:, ['education_id', 'education']].drop_duplicates().reset_index(drop=True)\n",
    "education.head(10)"
   ]
  },
  {
   "cell_type": "code",
   "execution_count": 24,
   "id": "5517d993-2cea-4be2-876b-c0687fcf20e5",
   "metadata": {},
   "outputs": [
    {
     "data": {
      "text/plain": [
       "Index(['children', 'days_employed', 'dob_years', 'education_id',\n",
       "       'family_status_id', 'gender', 'income_type', 'debt', 'total_income',\n",
       "       'purpose', 'purpose_category'],\n",
       "      dtype='object')"
      ]
     },
     "execution_count": 24,
     "metadata": {},
     "output_type": "execute_result"
    }
   ],
   "source": [
    "# удалим лишние столбцы из исходного датафрейма с помощью метода drop()\n",
    "df = df.drop(columns=['education', 'family_status'], axis=1)\n",
    "df.columns           "
   ]
  },
  {
   "cell_type": "markdown",
   "id": "907c7645-dda2-4485-8c90-87efa1b96357",
   "metadata": {},
   "source": [
    "На основании диапазонов, указанных ниже, создадим столбец *total_income_category* с категориями доходов:\n",
    "- 0–30000 — 'E';\n",
    "- 30001–50000 — 'D';\n",
    "- 50001–200000 — 'C';\n",
    "- 200001–1000000 — 'B';\n",
    "- 1000001 и выше — 'A'."
   ]
  },
  {
   "cell_type": "code",
   "execution_count": 25,
   "id": "01939c4f-19d6-4fd5-a33a-128ae5735ed8",
   "metadata": {},
   "outputs": [
    {
     "data": {
      "text/html": [
       "<div>\n",
       "<style scoped>\n",
       "    .dataframe tbody tr th:only-of-type {\n",
       "        vertical-align: middle;\n",
       "    }\n",
       "\n",
       "    .dataframe tbody tr th {\n",
       "        vertical-align: top;\n",
       "    }\n",
       "\n",
       "    .dataframe thead th {\n",
       "        text-align: right;\n",
       "    }\n",
       "</style>\n",
       "<table border=\"1\" class=\"dataframe\">\n",
       "  <thead>\n",
       "    <tr style=\"text-align: right;\">\n",
       "      <th></th>\n",
       "      <th>children</th>\n",
       "      <th>days_employed</th>\n",
       "      <th>dob_years</th>\n",
       "      <th>education_id</th>\n",
       "      <th>family_status_id</th>\n",
       "      <th>gender</th>\n",
       "      <th>income_type</th>\n",
       "      <th>debt</th>\n",
       "      <th>total_income</th>\n",
       "      <th>purpose</th>\n",
       "      <th>purpose_category</th>\n",
       "      <th>total_income_category</th>\n",
       "    </tr>\n",
       "  </thead>\n",
       "  <tbody>\n",
       "    <tr>\n",
       "      <th>0</th>\n",
       "      <td>1</td>\n",
       "      <td>8437.673028</td>\n",
       "      <td>42</td>\n",
       "      <td>0</td>\n",
       "      <td>0</td>\n",
       "      <td>F</td>\n",
       "      <td>сотрудник</td>\n",
       "      <td>0</td>\n",
       "      <td>253875</td>\n",
       "      <td>покупка жилья</td>\n",
       "      <td>операции с недвижимостью</td>\n",
       "      <td>B</td>\n",
       "    </tr>\n",
       "    <tr>\n",
       "      <th>1</th>\n",
       "      <td>1</td>\n",
       "      <td>4024.803754</td>\n",
       "      <td>36</td>\n",
       "      <td>1</td>\n",
       "      <td>0</td>\n",
       "      <td>F</td>\n",
       "      <td>сотрудник</td>\n",
       "      <td>0</td>\n",
       "      <td>112080</td>\n",
       "      <td>приобретение автомобиля</td>\n",
       "      <td>операции с автомобилем</td>\n",
       "      <td>C</td>\n",
       "    </tr>\n",
       "    <tr>\n",
       "      <th>2</th>\n",
       "      <td>0</td>\n",
       "      <td>5623.422610</td>\n",
       "      <td>33</td>\n",
       "      <td>1</td>\n",
       "      <td>0</td>\n",
       "      <td>M</td>\n",
       "      <td>сотрудник</td>\n",
       "      <td>0</td>\n",
       "      <td>145885</td>\n",
       "      <td>покупка жилья</td>\n",
       "      <td>операции с недвижимостью</td>\n",
       "      <td>C</td>\n",
       "    </tr>\n",
       "    <tr>\n",
       "      <th>3</th>\n",
       "      <td>3</td>\n",
       "      <td>4124.747207</td>\n",
       "      <td>32</td>\n",
       "      <td>1</td>\n",
       "      <td>0</td>\n",
       "      <td>M</td>\n",
       "      <td>сотрудник</td>\n",
       "      <td>0</td>\n",
       "      <td>267628</td>\n",
       "      <td>дополнительное образование</td>\n",
       "      <td>получение образования</td>\n",
       "      <td>B</td>\n",
       "    </tr>\n",
       "    <tr>\n",
       "      <th>4</th>\n",
       "      <td>0</td>\n",
       "      <td>340266.072047</td>\n",
       "      <td>53</td>\n",
       "      <td>1</td>\n",
       "      <td>1</td>\n",
       "      <td>F</td>\n",
       "      <td>пенсионер</td>\n",
       "      <td>0</td>\n",
       "      <td>158616</td>\n",
       "      <td>сыграть свадьбу</td>\n",
       "      <td>проведение свадьбы</td>\n",
       "      <td>C</td>\n",
       "    </tr>\n",
       "  </tbody>\n",
       "</table>\n",
       "</div>"
      ],
      "text/plain": [
       "   children  days_employed  dob_years  education_id  family_status_id gender  \\\n",
       "0         1    8437.673028         42             0                 0      F   \n",
       "1         1    4024.803754         36             1                 0      F   \n",
       "2         0    5623.422610         33             1                 0      M   \n",
       "3         3    4124.747207         32             1                 0      M   \n",
       "4         0  340266.072047         53             1                 1      F   \n",
       "\n",
       "  income_type  debt  total_income                     purpose  \\\n",
       "0   сотрудник     0        253875               покупка жилья   \n",
       "1   сотрудник     0        112080     приобретение автомобиля   \n",
       "2   сотрудник     0        145885               покупка жилья   \n",
       "3   сотрудник     0        267628  дополнительное образование   \n",
       "4   пенсионер     0        158616             сыграть свадьбу   \n",
       "\n",
       "           purpose_category total_income_category  \n",
       "0  операции с недвижимостью                     B  \n",
       "1    операции с автомобилем                     C  \n",
       "2  операции с недвижимостью                     C  \n",
       "3     получение образования                     B  \n",
       "4        проведение свадьбы                     C  "
      ]
     },
     "execution_count": 25,
     "metadata": {},
     "output_type": "execute_result"
    }
   ],
   "source": [
    "# напишем функцию категоризации\n",
    "def income_category(total_income):\n",
    "    if total_income <= 30000:\n",
    "        return 'E'\n",
    "    elif 30000 < total_income <= 50000:\n",
    "        return 'D'\n",
    "    elif 50000 < total_income <= 200000:\n",
    "        return 'C'\n",
    "    elif 200000 < total_income <= 1000000:\n",
    "        return 'B'\n",
    "    else:\n",
    "        return 'A'\n",
    "\n",
    "# создадим новый столбец с помощью метода apply()\n",
    "df['total_income_category'] = df['total_income'].apply(income_category)\n",
    "df.head()        "
   ]
  },
  {
   "cell_type": "markdown",
   "id": "4034de74-fe68-4f4d-a6a9-b35a7d282a7e",
   "metadata": {},
   "source": [
    "**Выводы**"
   ]
  },
  {
   "cell_type": "markdown",
   "id": "c607d197-6beb-4081-9bab-b6117ad4e058",
   "metadata": {},
   "source": [
    "На этапе предобработки в данных обнаружились пропуски, избыточные столбцы, аномальные значения и всяческие виды дубликатов. Исправление этих ошибок позволит провести анализ точнее. Обширные значения доходов клиентов и целей получения кредитов были объединены в удобные для анализа категории. "
   ]
  },
  {
   "cell_type": "markdown",
   "id": "2b9c284d-8192-48d5-a559-73f757c9fcb7",
   "metadata": {},
   "source": [
    "# 3. Ход исследования"
   ]
  },
  {
   "cell_type": "markdown",
   "id": "7ea1ab6f-c3e7-427c-a9ed-bd2ce39c4a01",
   "metadata": {},
   "source": [
    "## Есть ли зависимость между количеством детей и возвратом кредита в срок?"
   ]
  },
  {
   "cell_type": "code",
   "execution_count": 26,
   "id": "81a449b5-bf53-4479-b7a4-1c6a06a011b0",
   "metadata": {},
   "outputs": [
    {
     "data": {
      "text/html": [
       "<div>\n",
       "<style scoped>\n",
       "    .dataframe tbody tr th:only-of-type {\n",
       "        vertical-align: middle;\n",
       "    }\n",
       "\n",
       "    .dataframe tbody tr th {\n",
       "        vertical-align: top;\n",
       "    }\n",
       "\n",
       "    .dataframe thead tr th {\n",
       "        text-align: left;\n",
       "    }\n",
       "\n",
       "    .dataframe thead tr:last-of-type th {\n",
       "        text-align: right;\n",
       "    }\n",
       "</style>\n",
       "<table border=\"1\" class=\"dataframe\">\n",
       "  <thead>\n",
       "    <tr>\n",
       "      <th></th>\n",
       "      <th colspan=\"3\" halign=\"left\">debt</th>\n",
       "    </tr>\n",
       "    <tr>\n",
       "      <th></th>\n",
       "      <th>count</th>\n",
       "      <th>sum</th>\n",
       "      <th>mean</th>\n",
       "    </tr>\n",
       "    <tr>\n",
       "      <th>children</th>\n",
       "      <th></th>\n",
       "      <th></th>\n",
       "      <th></th>\n",
       "    </tr>\n",
       "  </thead>\n",
       "  <tbody>\n",
       "    <tr>\n",
       "      <th>0</th>\n",
       "      <td>14107</td>\n",
       "      <td>1063</td>\n",
       "      <td>0.075353</td>\n",
       "    </tr>\n",
       "    <tr>\n",
       "      <th>1</th>\n",
       "      <td>4809</td>\n",
       "      <td>444</td>\n",
       "      <td>0.092327</td>\n",
       "    </tr>\n",
       "    <tr>\n",
       "      <th>2</th>\n",
       "      <td>2052</td>\n",
       "      <td>194</td>\n",
       "      <td>0.094542</td>\n",
       "    </tr>\n",
       "    <tr>\n",
       "      <th>3</th>\n",
       "      <td>330</td>\n",
       "      <td>27</td>\n",
       "      <td>0.081818</td>\n",
       "    </tr>\n",
       "    <tr>\n",
       "      <th>4</th>\n",
       "      <td>41</td>\n",
       "      <td>4</td>\n",
       "      <td>0.097561</td>\n",
       "    </tr>\n",
       "    <tr>\n",
       "      <th>5</th>\n",
       "      <td>9</td>\n",
       "      <td>0</td>\n",
       "      <td>0.000000</td>\n",
       "    </tr>\n",
       "  </tbody>\n",
       "</table>\n",
       "</div>"
      ],
      "text/plain": [
       "           debt                \n",
       "          count   sum      mean\n",
       "children                       \n",
       "0         14107  1063  0.075353\n",
       "1          4809   444  0.092327\n",
       "2          2052   194  0.094542\n",
       "3           330    27  0.081818\n",
       "4            41     4  0.097561\n",
       "5             9     0  0.000000"
      ]
     },
     "execution_count": 26,
     "metadata": {},
     "output_type": "execute_result"
    }
   ],
   "source": [
    "# сгруппируем клиентов по количеству детей и сравним количество должников и отношение должников ко всем клиентам из категории\n",
    "debt_by_children = df.groupby('children').agg({'debt': ['count', 'sum', 'mean']})\n",
    "debt_by_children"
   ]
  },
  {
   "cell_type": "markdown",
   "id": "a1d1019f-0387-45c7-ae26-d94700af094e",
   "metadata": {},
   "source": [
    "**Выводы**"
   ]
  },
  {
   "cell_type": "markdown",
   "id": "1a47ace2-73aa-41a5-8ff9-d832ee9de33b",
   "metadata": {},
   "source": [
    "Бездетные клиенты чаще погашают задолженности вовремя, чем клиенты с детьми. Оно и понятно, вы цены на детские коляски видели? При этом, само количество детей (когда их больше 1) слабо коррелирует с фактом возврата кредита в срок. "
   ]
  },
  {
   "cell_type": "markdown",
   "id": "d3ccd380-8ed6-42d7-9e03-e9948a75c4c8",
   "metadata": {},
   "source": [
    "## Есть ли зависимость между семейным положением и возвратом кредита в срок?"
   ]
  },
  {
   "cell_type": "code",
   "execution_count": 27,
   "id": "6b5aee10-4dbe-4862-b891-85c3c2c21b1b",
   "metadata": {},
   "outputs": [
    {
     "data": {
      "text/html": [
       "<div>\n",
       "<style scoped>\n",
       "    .dataframe tbody tr th:only-of-type {\n",
       "        vertical-align: middle;\n",
       "    }\n",
       "\n",
       "    .dataframe tbody tr th {\n",
       "        vertical-align: top;\n",
       "    }\n",
       "\n",
       "    .dataframe thead th {\n",
       "        text-align: right;\n",
       "    }\n",
       "</style>\n",
       "<table border=\"1\" class=\"dataframe\">\n",
       "  <thead>\n",
       "    <tr style=\"text-align: right;\">\n",
       "      <th></th>\n",
       "      <th>family_status_id</th>\n",
       "      <th>family_status</th>\n",
       "      <th>total_client</th>\n",
       "      <th>debt_client</th>\n",
       "      <th>mean_debt</th>\n",
       "    </tr>\n",
       "  </thead>\n",
       "  <tbody>\n",
       "    <tr>\n",
       "      <th>0</th>\n",
       "      <td>0</td>\n",
       "      <td>женат / замужем</td>\n",
       "      <td>12266</td>\n",
       "      <td>927</td>\n",
       "      <td>0.075575</td>\n",
       "    </tr>\n",
       "    <tr>\n",
       "      <th>1</th>\n",
       "      <td>1</td>\n",
       "      <td>гражданский брак</td>\n",
       "      <td>4146</td>\n",
       "      <td>385</td>\n",
       "      <td>0.092861</td>\n",
       "    </tr>\n",
       "    <tr>\n",
       "      <th>2</th>\n",
       "      <td>2</td>\n",
       "      <td>вдовец / вдова</td>\n",
       "      <td>951</td>\n",
       "      <td>63</td>\n",
       "      <td>0.066246</td>\n",
       "    </tr>\n",
       "    <tr>\n",
       "      <th>3</th>\n",
       "      <td>3</td>\n",
       "      <td>в разводе</td>\n",
       "      <td>1189</td>\n",
       "      <td>84</td>\n",
       "      <td>0.070648</td>\n",
       "    </tr>\n",
       "    <tr>\n",
       "      <th>4</th>\n",
       "      <td>4</td>\n",
       "      <td>Не женат / не замужем</td>\n",
       "      <td>2796</td>\n",
       "      <td>273</td>\n",
       "      <td>0.097639</td>\n",
       "    </tr>\n",
       "  </tbody>\n",
       "</table>\n",
       "</div>"
      ],
      "text/plain": [
       "   family_status_id          family_status  total_client  debt_client  \\\n",
       "0                 0        женат / замужем         12266          927   \n",
       "1                 1       гражданский брак          4146          385   \n",
       "2                 2         вдовец / вдова           951           63   \n",
       "3                 3              в разводе          1189           84   \n",
       "4                 4  Не женат / не замужем          2796          273   \n",
       "\n",
       "   mean_debt  \n",
       "0   0.075575  \n",
       "1   0.092861  \n",
       "2   0.066246  \n",
       "3   0.070648  \n",
       "4   0.097639  "
      ]
     },
     "execution_count": 27,
     "metadata": {},
     "output_type": "execute_result"
    }
   ],
   "source": [
    "# сгруппируем клиентов по семейному положению и сравним количество должников и отношение должников ко всем клиентам из категории\n",
    "debt_by_family = df.groupby('family_status_id').agg({'debt': ['count', 'sum', 'mean']})\n",
    "debt_by_family.set_axis(['total_client', 'debt_client', 'mean_debt'], axis='columns', inplace=True) \n",
    "# достанем категории из справочника, объединив таблицы с помощью метода merge()\n",
    "res = family_status.merge(debt_by_family, on='family_status_id', how='right')\n",
    "res"
   ]
  },
  {
   "cell_type": "markdown",
   "id": "31d6fb23-f434-40b3-9f0d-9c5c668dc097",
   "metadata": {},
   "source": [
    "**Выводы**"
   ]
  },
  {
   "cell_type": "markdown",
   "id": "861cc873-ecc3-40b5-a792-66d81c908631",
   "metadata": {},
   "source": [
    "Удивительно, но факт: холостые и незамужние клиенты - главные должники. Сюда же можно отнести и клиентов с неузаконенным семейным статусом - тех, кто живёт в гражданском браке. В среднем женатые/замужние клиенты имеют на 2 % меньше долгов.  "
   ]
  },
  {
   "cell_type": "markdown",
   "id": "29f43346-fc9a-4501-bf2f-298b49e8dcb0",
   "metadata": {},
   "source": [
    "## Есть ли зависимость между уровнем дохода и возвратом кредита в срок?"
   ]
  },
  {
   "cell_type": "code",
   "execution_count": 28,
   "id": "dfa9426e-5253-41aa-90bb-af659f4f4e95",
   "metadata": {},
   "outputs": [
    {
     "data": {
      "text/html": [
       "<div>\n",
       "<style scoped>\n",
       "    .dataframe tbody tr th:only-of-type {\n",
       "        vertical-align: middle;\n",
       "    }\n",
       "\n",
       "    .dataframe tbody tr th {\n",
       "        vertical-align: top;\n",
       "    }\n",
       "\n",
       "    .dataframe thead tr th {\n",
       "        text-align: left;\n",
       "    }\n",
       "\n",
       "    .dataframe thead tr:last-of-type th {\n",
       "        text-align: right;\n",
       "    }\n",
       "</style>\n",
       "<table border=\"1\" class=\"dataframe\">\n",
       "  <thead>\n",
       "    <tr>\n",
       "      <th></th>\n",
       "      <th colspan=\"3\" halign=\"left\">debt</th>\n",
       "    </tr>\n",
       "    <tr>\n",
       "      <th></th>\n",
       "      <th>count</th>\n",
       "      <th>sum</th>\n",
       "      <th>mean</th>\n",
       "    </tr>\n",
       "    <tr>\n",
       "      <th>total_income_category</th>\n",
       "      <th></th>\n",
       "      <th></th>\n",
       "      <th></th>\n",
       "    </tr>\n",
       "  </thead>\n",
       "  <tbody>\n",
       "    <tr>\n",
       "      <th>A</th>\n",
       "      <td>25</td>\n",
       "      <td>2</td>\n",
       "      <td>0.080000</td>\n",
       "    </tr>\n",
       "    <tr>\n",
       "      <th>B</th>\n",
       "      <td>5013</td>\n",
       "      <td>354</td>\n",
       "      <td>0.070616</td>\n",
       "    </tr>\n",
       "    <tr>\n",
       "      <th>C</th>\n",
       "      <td>15939</td>\n",
       "      <td>1353</td>\n",
       "      <td>0.084886</td>\n",
       "    </tr>\n",
       "    <tr>\n",
       "      <th>D</th>\n",
       "      <td>349</td>\n",
       "      <td>21</td>\n",
       "      <td>0.060172</td>\n",
       "    </tr>\n",
       "    <tr>\n",
       "      <th>E</th>\n",
       "      <td>22</td>\n",
       "      <td>2</td>\n",
       "      <td>0.090909</td>\n",
       "    </tr>\n",
       "  </tbody>\n",
       "</table>\n",
       "</div>"
      ],
      "text/plain": [
       "                        debt                \n",
       "                       count   sum      mean\n",
       "total_income_category                       \n",
       "A                         25     2  0.080000\n",
       "B                       5013   354  0.070616\n",
       "C                      15939  1353  0.084886\n",
       "D                        349    21  0.060172\n",
       "E                         22     2  0.090909"
      ]
     },
     "execution_count": 28,
     "metadata": {},
     "output_type": "execute_result"
    }
   ],
   "source": [
    "# сгруппируем клиентов по уровню дохода и сравним количество должников и отношение должников ко всем клиентам из категории\n",
    "debt_by_income = df.groupby('total_income_category').agg({'debt': ['count', 'sum', 'mean']})\n",
    "debt_by_income"
   ]
  },
  {
   "cell_type": "markdown",
   "id": "81ce2556-c44a-4635-bd6f-fc76f7431faa",
   "metadata": {},
   "source": [
    "**Выводы**"
   ]
  },
  {
   "cell_type": "markdown",
   "id": "57c7dcbd-4bdb-4d0f-97d6-192948979b1c",
   "metadata": {},
   "source": [
    "Для анализа должников из категории с самыми высокими и с самыми низкими доходами недостаточно данных - в нашей огромной выборке всего 47 человек попадают в эти категории, и среди них лишь 4 должника. По остальным категориям факт возврата кредита никак не коррелирует с уровнем дохода. Это контринтуитивно, но цифры не врут."
   ]
  },
  {
   "cell_type": "markdown",
   "id": "642fa371-0509-411c-b18d-28a5e8c5fb86",
   "metadata": {},
   "source": [
    "## Как разные цели кредита влияют на его возврат в срок?"
   ]
  },
  {
   "cell_type": "code",
   "execution_count": 29,
   "id": "992e4bcd-413f-4529-9906-9653875b7fd3",
   "metadata": {},
   "outputs": [
    {
     "data": {
      "text/html": [
       "<div>\n",
       "<style scoped>\n",
       "    .dataframe tbody tr th:only-of-type {\n",
       "        vertical-align: middle;\n",
       "    }\n",
       "\n",
       "    .dataframe tbody tr th {\n",
       "        vertical-align: top;\n",
       "    }\n",
       "\n",
       "    .dataframe thead tr th {\n",
       "        text-align: left;\n",
       "    }\n",
       "\n",
       "    .dataframe thead tr:last-of-type th {\n",
       "        text-align: right;\n",
       "    }\n",
       "</style>\n",
       "<table border=\"1\" class=\"dataframe\">\n",
       "  <thead>\n",
       "    <tr>\n",
       "      <th></th>\n",
       "      <th colspan=\"3\" halign=\"left\">debt</th>\n",
       "    </tr>\n",
       "    <tr>\n",
       "      <th></th>\n",
       "      <th>count</th>\n",
       "      <th>sum</th>\n",
       "      <th>mean</th>\n",
       "    </tr>\n",
       "    <tr>\n",
       "      <th>purpose_category</th>\n",
       "      <th></th>\n",
       "      <th></th>\n",
       "      <th></th>\n",
       "    </tr>\n",
       "  </thead>\n",
       "  <tbody>\n",
       "    <tr>\n",
       "      <th>операции с автомобилем</th>\n",
       "      <td>4281</td>\n",
       "      <td>400</td>\n",
       "      <td>0.093436</td>\n",
       "    </tr>\n",
       "    <tr>\n",
       "      <th>операции с недвижимостью</th>\n",
       "      <td>10754</td>\n",
       "      <td>780</td>\n",
       "      <td>0.072531</td>\n",
       "    </tr>\n",
       "    <tr>\n",
       "      <th>получение образования</th>\n",
       "      <td>3989</td>\n",
       "      <td>369</td>\n",
       "      <td>0.092504</td>\n",
       "    </tr>\n",
       "    <tr>\n",
       "      <th>проведение свадьбы</th>\n",
       "      <td>2324</td>\n",
       "      <td>183</td>\n",
       "      <td>0.078744</td>\n",
       "    </tr>\n",
       "  </tbody>\n",
       "</table>\n",
       "</div>"
      ],
      "text/plain": [
       "                           debt               \n",
       "                          count  sum      mean\n",
       "purpose_category                              \n",
       "операции с автомобилем     4281  400  0.093436\n",
       "операции с недвижимостью  10754  780  0.072531\n",
       "получение образования      3989  369  0.092504\n",
       "проведение свадьбы         2324  183  0.078744"
      ]
     },
     "execution_count": 29,
     "metadata": {},
     "output_type": "execute_result"
    }
   ],
   "source": [
    "# сгруппируем клиентов по уровню дохода и сравним количество должников и отношение должников ко всем клиентам из категории\n",
    "debt_by_purpose = df.groupby('purpose_category').agg({'debt': ['count', 'sum', 'mean']})\n",
    "debt_by_purpose"
   ]
  },
  {
   "cell_type": "markdown",
   "id": "f71651a9-5f54-4541-927c-b3076e5ead11",
   "metadata": {},
   "source": [
    "**Выводы**"
   ]
  },
  {
   "cell_type": "markdown",
   "id": "f5525d94-b7bc-4bad-9362-a13c973ed5b6",
   "metadata": {},
   "source": [
    "Кредиты, полученные для операций с недвижимостью, погашают гораздо чаще других. Возможно, это связано с льготированием ипотечных программ или, скорее всего, с серьезностью подхода к такого рода покупке. В случае невыплаты ипотеки, клиенты могут остаться без жилья, поэтому очень ответственно подходят к своим обязательствам. \n",
    "\n",
    "А вот хуже всего дело обстоит с автокредитами и кредитами на обучение. Автомобили покупаются под более высокий процент, чем те же квартиры, и часто предполагают много сопутствующих затрат на обслуживание, ремонт в случае аварий и др., возможно клиенты не всегда учитывают эти риски в полном объеме, и в этом кроется основа этой статистики. \n",
    "\n",
    "Кредиты на обучение берутся студентами без стабильного заработка - в этом статусе тяжело совмещать и учёбу, и работу. Во время учебы студенты часто не могут устроиться на полноценную работу ввиду отсутствия временных ресурсов, и в основном перебиваются подработками. Как следствие, прогнозируемо низкий уровень дохода."
   ]
  },
  {
   "cell_type": "markdown",
   "id": "d7ab2872-9be5-44c5-b010-4ff929c0413a",
   "metadata": {},
   "source": [
    "# 4. Результаты исследования"
   ]
  },
  {
   "cell_type": "markdown",
   "id": "e2934386-07d3-40f3-941b-9f75580b1e0e",
   "metadata": {},
   "source": [
    "Рабочие гипотезы: количество детей, семейное положение, уровень дохода клиента и разные цели кредита коррелируют с фактом погашения кредита в срок.\n",
    "\n",
    "**Общие результаты**\n",
    "\n",
    "Бездетные клиенты чаще погашают кредиты в срок, чем клиенты с детьми. При этом количество детей несильно коррелирует с фактом возврата денег. Женатые клиенты  более дисциплинированы, чем холостые. Удивительно, но уровень дохода никак не влияет на факт возврата кредита в срок. От цели кредита зависит вероятность возврата денег обратно. Если цель серьезная - как покупка квартиры - то шанс получить деньги обратно выше, нежели шанс возврата кредита на обучение студентом."
   ]
  }
 ],
 "metadata": {
  "kernelspec": {
   "display_name": "Python 3 (ipykernel)",
   "language": "python",
   "name": "python3"
  },
  "language_info": {
   "codemirror_mode": {
    "name": "ipython",
    "version": 3
   },
   "file_extension": ".py",
   "mimetype": "text/x-python",
   "name": "python",
   "nbconvert_exporter": "python",
   "pygments_lexer": "ipython3",
   "version": "3.11.4"
  }
 },
 "nbformat": 4,
 "nbformat_minor": 5
}
